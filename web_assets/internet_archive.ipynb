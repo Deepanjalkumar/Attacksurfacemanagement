{
 "cells": [
  {
   "cell_type": "markdown",
   "metadata": {},
   "source": [
    "# Introduction : Internet Archive\n",
    "\n",
    "it a collection of historical documents or records providing information about institution\n",
    "or digital identity."
   ]
  },
  {
   "cell_type": "raw",
   "metadata": {},
   "source": [
    "# Date of creation : 17 july 2021\n",
    "# Version : 1.0\n",
    "# Description : This notebook helps in collecting archive information\n",
    "# Tools used here are:\n",
    "1-  Axtrack\n",
    "2-  Waybackurls"
   ]
  },
  {
   "cell_type": "markdown",
   "metadata": {},
   "source": [
    "# Importing packages "
   ]
  },
  {
   "cell_type": "code",
   "execution_count": 14,
   "metadata": {},
   "outputs": [],
   "source": [
    "# Importing packages \n",
    "import os"
   ]
  },
  {
   "cell_type": "markdown",
   "metadata": {},
   "source": [
    "# Getting the location of current working directory"
   ]
  },
  {
   "cell_type": "code",
   "execution_count": 6,
   "metadata": {},
   "outputs": [
    {
     "name": "stdout",
     "output_type": "stream",
     "text": [
      "Location of current working directory : /root/Desktop/offensivenotebook/web_assets\n"
     ]
    }
   ],
   "source": [
    "# Getting the location of current working directory\n",
    "\n",
    "def current_working_directory():\n",
    "    cwd=os.getcwd()\n",
    "    print(\"Location of current working directory :\", cwd)\n",
    "current_working_directory()"
   ]
  },
  {
   "cell_type": "markdown",
   "metadata": {},
   "source": [
    "# Making directory name Internet_archive"
   ]
  },
  {
   "cell_type": "code",
   "execution_count": 7,
   "metadata": {},
   "outputs": [
    {
     "name": "stdout",
     "output_type": "stream",
     "text": [
      "[Errno 17] File exists: 'Internet_archive'\n"
     ]
    }
   ],
   "source": [
    "# making directory name internet archive\n",
    "\n",
    "def making_directory_internet_archive():\n",
    "    try:\n",
    "        os.mkdir(\"Internet_archive\")\n",
    "    except Exception as e:\n",
    "        print(e)\n",
    "making_directory_internet_archive()"
   ]
  },
  {
   "cell_type": "markdown",
   "metadata": {},
   "source": [
    "# Archiving information based on domain name "
   ]
  },
  {
   "cell_type": "code",
   "execution_count": 15,
   "metadata": {},
   "outputs": [],
   "source": [
    "# Archivig information based on domain name\n",
    "\n",
    "def archive_information():\n",
    "    try:\n",
    "        os.system(\"cat Subdomain_results/all_domains.txt | waybackurls > Internet_archive/waybackurls.txt\")\n",
    "    except Exception as e:\n",
    "        print(e)\n",
    "archive_information()\n"
   ]
  },
  {
   "cell_type": "code",
   "execution_count": null,
   "metadata": {},
   "outputs": [],
   "source": []
  }
 ],
 "metadata": {
  "kernelspec": {
   "display_name": "Python 3 (ipykernel)",
   "language": "python",
   "name": "python3"
  },
  "language_info": {
   "codemirror_mode": {
    "name": "ipython",
    "version": 3
   },
   "file_extension": ".py",
   "mimetype": "text/x-python",
   "name": "python",
   "nbconvert_exporter": "python",
   "pygments_lexer": "ipython3",
   "version": "3.9.7"
  }
 },
 "nbformat": 4,
 "nbformat_minor": 4
}
