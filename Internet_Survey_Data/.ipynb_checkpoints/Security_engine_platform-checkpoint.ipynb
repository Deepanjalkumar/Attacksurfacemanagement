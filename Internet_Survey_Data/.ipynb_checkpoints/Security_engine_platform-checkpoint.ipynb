{
 "cells": [
  {
   "cell_type": "markdown",
   "metadata": {},
   "source": [
    "# Introduction : Leveraging security engine and platform for max efficieny"
   ]
  },
  {
   "cell_type": "raw",
   "metadata": {},
   "source": [
    "# Date of creation : 17 july 2021\n",
    "# Version : 1.0\n",
    "# Description : This notebook helps in getting diverse coverage by leveraging other platforms"
   ]
  },
  {
   "cell_type": "markdown",
   "metadata": {},
   "source": [
    "# Importing packages"
   ]
  },
  {
   "cell_type": "code",
   "execution_count": 1,
   "metadata": {},
   "outputs": [],
   "source": [
    "# importing packages\n",
    "import os"
   ]
  },
  {
   "cell_type": "markdown",
   "metadata": {},
   "source": [
    "# Getting the location of working directory"
   ]
  },
  {
   "cell_type": "code",
   "execution_count": 2,
   "metadata": {},
   "outputs": [
    {
     "name": "stdout",
     "output_type": "stream",
     "text": [
      "Location of current working directory : /root/Desktop/offensivenotebook/Internet_Survey_Data\n"
     ]
    }
   ],
   "source": [
    "# Getting the location of working directory\n",
    "\n",
    "def getting_location_of_working_directory():\n",
    "    try:\n",
    "        cwd=os.getcwd()\n",
    "        print(f\"Location of current working directory :\", cwd)\n",
    "    except Exception as e:\n",
    "        print(e)\n",
    "getting_location_of_working_directory()"
   ]
  },
  {
   "cell_type": "markdown",
   "metadata": {},
   "source": [
    "# Making directory name results"
   ]
  },
  {
   "cell_type": "code",
   "execution_count": 4,
   "metadata": {},
   "outputs": [
    {
     "name": "stdout",
     "output_type": "stream",
     "text": [
      "[Errno 17] File exists: 'Results'\n"
     ]
    }
   ],
   "source": [
    "# Making directory Web_service_results to save the results\n",
    "\n",
    "def making_directory_results():\n",
    "    try:\n",
    "        os.mkdir(\"Results\")\n",
    "    except Exception as e:\n",
    "        print(e)\n",
    "making_directory_results()"
   ]
  },
  {
   "cell_type": "raw",
   "metadata": {},
   "source": [
    "# For this use my personal preference platforms such as :\n",
    "1- Shodan\n",
    "2- Binaryedge\n",
    "3- VirusTotal\n",
    "4- Censys\n",
    "5- IntelX\n",
    "6- RiskIQ\n",
    "7- Security Trails\n",
    "8- AlienVault"
   ]
  },
  {
   "cell_type": "markdown",
   "metadata": {},
   "source": []
  },
  {
   "cell_type": "code",
   "execution_count": null,
   "metadata": {},
   "outputs": [],
   "source": []
  }
 ],
 "metadata": {
  "kernelspec": {
   "display_name": "Python 3 (ipykernel)",
   "language": "python",
   "name": "python3"
  },
  "language_info": {
   "codemirror_mode": {
    "name": "ipython",
    "version": 3
   },
   "file_extension": ".py",
   "mimetype": "text/x-python",
   "name": "python",
   "nbconvert_exporter": "python",
   "pygments_lexer": "ipython3",
   "version": "3.9.7"
  }
 },
 "nbformat": 4,
 "nbformat_minor": 4
}
