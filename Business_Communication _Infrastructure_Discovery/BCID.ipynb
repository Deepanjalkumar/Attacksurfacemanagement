{
 "cells": [
  {
   "cell_type": "markdown",
   "metadata": {},
   "source": [
    "# Introduction : Business Communication Infrastructure Discovery"
   ]
  },
  {
   "cell_type": "raw",
   "metadata": {},
   "source": [
    "# Date of creation : 17 july 2021\n",
    "# Version : 1.0\n",
    "# Description : This notebook helps in discovery of infrastructure which help in business     communication "
   ]
  },
  {
   "cell_type": "markdown",
   "metadata": {},
   "source": [
    "# Importing packages"
   ]
  },
  {
   "cell_type": "code",
   "execution_count": 1,
   "metadata": {},
   "outputs": [],
   "source": [
    "# Importing packages\n",
    "import os"
   ]
  },
  {
   "cell_type": "markdown",
   "metadata": {},
   "source": [
    "# Getting the location of working directory"
   ]
  },
  {
   "cell_type": "code",
   "execution_count": 2,
   "metadata": {},
   "outputs": [
    {
     "name": "stdout",
     "output_type": "stream",
     "text": [
      "Location of current directory :  /root/Desktop/offensivenotebook/Business Communication Infrastructure Discovery\n"
     ]
    }
   ],
   "source": [
    "# Getting the location of working directory\n",
    "def current_directory_location():\n",
    "    cwd=os.getcwd()\n",
    "    print(\"Location of current directory : \", cwd)\n",
    "current_directory_location()"
   ]
  },
  {
   "cell_type": "markdown",
   "metadata": {},
   "source": [
    "# Making directory name results to save the result"
   ]
  },
  {
   "cell_type": "code",
   "execution_count": 2,
   "metadata": {},
   "outputs": [
    {
     "name": "stdout",
     "output_type": "stream",
     "text": [
      "[Errno 17] File exists: 'Results'\n"
     ]
    }
   ],
   "source": [
    "# Making directory name results\n",
    "\n",
    "def directory_results():\n",
    "    try:\n",
    "        os.mkdir(\"Results\")\n",
    "    except Exception as e:\n",
    "        print(e)\n",
    "directory_results()"
   ]
  },
  {
   "cell_type": "markdown",
   "metadata": {},
   "source": [
    "# Tools "
   ]
  },
  {
   "cell_type": "raw",
   "metadata": {},
   "source": [
    "Mxtoolbox: Online tool to check mail exchanger (MX) records\n",
    "\n",
    "MicroBurst: PowerShell based Azure security assessment scripts\n",
    "   \n",
    "Lyncsmash: Tools to enumerate and attack self-hosted Lync/Skype for Business\n",
    "    \n",
    "Enumeration-as-a-Service: Script for SaaS offering enumeration through DNS queries\n",
    "    \n",
    "ruler : A tool to abuse Exchange services\n"
   ]
  }
 ],
 "metadata": {
  "kernelspec": {
   "display_name": "Python 3 (ipykernel)",
   "language": "python",
   "name": "python3"
  },
  "language_info": {
   "codemirror_mode": {
    "name": "ipython",
    "version": 3
   },
   "file_extension": ".py",
   "mimetype": "text/x-python",
   "name": "python",
   "nbconvert_exporter": "python",
   "pygments_lexer": "ipython3",
   "version": "3.9.7"
  }
 },
 "nbformat": 4,
 "nbformat_minor": 4
}
