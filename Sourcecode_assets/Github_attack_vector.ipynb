{
 "cells": [
  {
   "cell_type": "markdown",
   "metadata": {},
   "source": [
    "# Introduction : Source code"
   ]
  },
  {
   "cell_type": "raw",
   "metadata": {},
   "source": [
    "# Date of creation : 17 july 2021\n",
    "# Version : 1.0\n",
    "# Description : This notebook helps in discovering vulns in github \n",
    "# Tools used here are:\n",
    "1- github-search\n",
    "2- trufflehog\n",
    "3- gitgot\n",
    "4- gitminer"
   ]
  },
  {
   "cell_type": "markdown",
   "metadata": {},
   "source": [
    "# Github token"
   ]
  },
  {
   "cell_type": "code",
   "execution_count": 6,
   "metadata": {},
   "outputs": [],
   "source": [
    "github_token=\"\""
   ]
  },
  {
   "cell_type": "markdown",
   "metadata": {},
   "source": [
    "# Importing packages"
   ]
  },
  {
   "cell_type": "code",
   "execution_count": 2,
   "metadata": {},
   "outputs": [],
   "source": [
    "# Importing packages\n",
    "import os"
   ]
  },
  {
   "cell_type": "markdown",
   "metadata": {},
   "source": [
    "# Getting the location of working directory"
   ]
  },
  {
   "cell_type": "code",
   "execution_count": 3,
   "metadata": {},
   "outputs": [
    {
     "name": "stdout",
     "output_type": "stream",
     "text": [
      "Location of current directory is : /root/Desktop/offensivenotebook/Sourcecode_assets\n"
     ]
    }
   ],
   "source": [
    "# Getting the location of current directory\n",
    "\n",
    "def getting_location_current_directory():\n",
    "    cwd=os.getcwd()\n",
    "    print(\"Location of current directory is :\", cwd)\n",
    "getting_location_current_directory()"
   ]
  },
  {
   "cell_type": "markdown",
   "metadata": {},
   "source": [
    "# Making directory name results to save the results"
   ]
  },
  {
   "cell_type": "code",
   "execution_count": 5,
   "metadata": {},
   "outputs": [
    {
     "name": "stdout",
     "output_type": "stream",
     "text": [
      "[Errno 17] File exists: 'Results'\n"
     ]
    }
   ],
   "source": [
    "# Making directory name results\n",
    "\n",
    "def directory_results():\n",
    "    try:\n",
    "        os.mkdir(\"Results\")\n",
    "    except Exception as e:\n",
    "        print(e)\n",
    "directory_results()"
   ]
  },
  {
   "cell_type": "markdown",
   "metadata": {},
   "source": [
    "# CLONE OF REPO BASED ON ORGANIZATION NAME "
   ]
  },
  {
   "cell_type": "code",
   "execution_count": null,
   "metadata": {},
   "outputs": [],
   "source": [
    "# Cloning of repos based on org name\n",
    "\n",
    "org=input(\"Enter the organization name :\")\n",
    "\n",
    "def cloning_repos():\n",
    "    try:\n",
    "        pass\n",
    "    except Exception as e:\n",
    "        print(e)\n",
    "        \n",
    "cloning_repos()\n"
   ]
  },
  {
   "cell_type": "markdown",
   "metadata": {},
   "source": [
    "# FIND GITHUB ACCOUNT OF EMPLOYEE BASED ON COMPANY NAME"
   ]
  },
  {
   "cell_type": "code",
   "execution_count": null,
   "metadata": {},
   "outputs": [],
   "source": [
    "# Finding github account based on company name\n",
    "company=input(\"Enter the company name :\")\n",
    "\n",
    "def find_repos():\n",
    "    try:\n",
    "        pass\n",
    "    except Exception as e:\n",
    "        print(e)\n",
    "        \n",
    "find_repos()"
   ]
  },
  {
   "cell_type": "markdown",
   "metadata": {},
   "source": [
    "# LOOK FOR CONTRIBUTORS BASED ON ORGANIZATION NAME"
   ]
  },
  {
   "cell_type": "code",
   "execution_count": null,
   "metadata": {},
   "outputs": [],
   "source": [
    "# Looking for contributors\n",
    "\n",
    "org=input(\"Enter the organization name :\")\n",
    "\n",
    "def seeking_contributors():\n",
    "    try:\n",
    "        pass\n",
    "    except Exception as e:\n",
    "        print(e)\n",
    "seeking_contributors()"
   ]
  },
  {
   "cell_type": "markdown",
   "metadata": {},
   "source": [
    "# GITHUB USER BASED ON USERNAME/KEYWORD"
   ]
  },
  {
   "cell_type": "code",
   "execution_count": null,
   "metadata": {},
   "outputs": [],
   "source": [
    "# Looking for users\n",
    "\n",
    "user=input(\"Enter the username\")\n",
    "\n",
    "def seeking_user():\n",
    "    try:\n",
    "        pass\n",
    "    except Exception as e:\n",
    "        print(e)\n",
    "seeking_user()"
   ]
  },
  {
   "cell_type": "markdown",
   "metadata": {},
   "source": [
    "# PERFORM CODE SEARCH SUCH AS PASSWORD, CONFIG & ETC  BASED ON ORGANIZATION NAME OR REPO"
   ]
  },
  {
   "cell_type": "code",
   "execution_count": null,
   "metadata": {},
   "outputs": [],
   "source": [
    "# Searching for sensitive stuff\n",
    "\n",
    "def sensitive_stuff():\n",
    "    try:\n",
    "        pass\n",
    "    except Exception as e:\n",
    "        print(e)\n",
    "sensitive_stuff()"
   ]
  },
  {
   "cell_type": "markdown",
   "metadata": {},
   "source": [
    "# GITHUB HISTORY"
   ]
  },
  {
   "cell_type": "code",
   "execution_count": null,
   "metadata": {},
   "outputs": [],
   "source": [
    "# Github history for sensitive information\n",
    "\n",
    "def seeking_history():\n",
    "    try:\n",
    "        pass\n",
    "    except Exception as e:\n",
    "        print(e)\n",
    "seeking_history()"
   ]
  },
  {
   "cell_type": "code",
   "execution_count": null,
   "metadata": {},
   "outputs": [],
   "source": []
  }
 ],
 "metadata": {
  "kernelspec": {
   "display_name": "Python 3 (ipykernel)",
   "language": "python",
   "name": "python3"
  },
  "language_info": {
   "codemirror_mode": {
    "name": "ipython",
    "version": 3
   },
   "file_extension": ".py",
   "mimetype": "text/x-python",
   "name": "python",
   "nbconvert_exporter": "python",
   "pygments_lexer": "ipython3",
   "version": "3.9.7"
  }
 },
 "nbformat": 4,
 "nbformat_minor": 4
}
