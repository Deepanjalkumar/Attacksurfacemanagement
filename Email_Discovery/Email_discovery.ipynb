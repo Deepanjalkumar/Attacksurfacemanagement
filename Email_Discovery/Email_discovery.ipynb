{
 "cells": [
  {
   "cell_type": "markdown",
   "metadata": {},
   "source": [
    "# Introduction : Email discovery"
   ]
  },
  {
   "cell_type": "raw",
   "metadata": {},
   "source": [
    "# Date of creation : 17 july 2021\n",
    "# Version : 1.0\n",
    "# Description : This notebook helps in discovery of email address\n",
    "# Tools used here are:\n",
    "1-  hunter\n",
    "\n",
    "# Other tools which you can use are:\n",
    "-------------------------------------------------------------------------------------------\n",
    "Skrapp: Browser addon to find emails on Linkedin\n",
    "\n",
    "Email Extractor: Chrome extension to extract emails from web pages\n",
    "\n",
    "Convertcsv: Online tool to extract email addresses in text, web pages, data files etc.\n",
    "\n",
    "linkedin2username: OSINT Tool: Generate username lists for companies on LinkedIn\n",
    "\n",
    "Office365UserEnum: Enumerate valid usernames from Office 365 using ActiveSync."
   ]
  },
  {
   "cell_type": "markdown",
   "metadata": {},
   "source": [
    "# Importing package"
   ]
  },
  {
   "cell_type": "code",
   "execution_count": 2,
   "metadata": {},
   "outputs": [],
   "source": [
    "# Importing packages \n",
    "import os"
   ]
  },
  {
   "cell_type": "markdown",
   "metadata": {},
   "source": [
    "# Hunter.io API KEY"
   ]
  },
  {
   "cell_type": "code",
   "execution_count": 4,
   "metadata": {},
   "outputs": [],
   "source": [
    "hunter_api=''"
   ]
  },
  {
   "cell_type": "markdown",
   "metadata": {},
   "source": [
    "# Getting the location of current directory"
   ]
  },
  {
   "cell_type": "code",
   "execution_count": 3,
   "metadata": {},
   "outputs": [
    {
     "name": "stdout",
     "output_type": "stream",
     "text": [
      "Location of current directory : /root/Desktop/offensivenotebook/Email Discovery\n"
     ]
    }
   ],
   "source": [
    "# Getting the location of current directory\n",
    "\n",
    "def current_directory():\n",
    "    cwd=os.getcwd()\n",
    "    print(\"Location of current directory :\", cwd)\n",
    "current_directory()"
   ]
  },
  {
   "cell_type": "markdown",
   "metadata": {},
   "source": [
    "# Making the directory name results to save the result"
   ]
  },
  {
   "cell_type": "code",
   "execution_count": 5,
   "metadata": {},
   "outputs": [
    {
     "name": "stdout",
     "output_type": "stream",
     "text": [
      "[Errno 17] File exists: 'Results'\n"
     ]
    }
   ],
   "source": [
    "# Making directory name results\n",
    "\n",
    "def directory_results():\n",
    "    try:\n",
    "        os.mkdir(\"Results\")\n",
    "    except Exception as e:\n",
    "        print(e)\n",
    "directory_results()"
   ]
  },
  {
   "cell_type": "markdown",
   "metadata": {},
   "source": [
    "# Performing email discovery"
   ]
  },
  {
   "cell_type": "markdown",
   "metadata": {},
   "source": [
    "# Find email address using domain name :"
   ]
  },
  {
   "cell_type": "code",
   "execution_count": 5,
   "metadata": {},
   "outputs": [
    {
     "name": "stdout",
     "output_type": "stream",
     "text": [
      "Enter the domain name : tesla.com\n",
      "\u001b[34m\n",
      "██╗  ██╗██╗   ██╗███╗   ██╗████████╗███████╗██████╗ \n",
      "██║  ██║██║   ██║████╗  ██║╚══██╔══╝██╔════╝██╔══██╗\n",
      "███████║██║   ██║██╔██╗ ██║   ██║   █████╗  ██████╔╝\n",
      "██╔══██║██║   ██║██║╚██╗██║   ██║   ██╔══╝  ██╔══██╗\n",
      "██║  ██║╚██████╔╝██║ ╚████║   ██║   ███████╗██║  ██║\n",
      "╚═╝  ╚═╝ ╚═════╝ ╚═╝  ╚═══╝   ╚═╝   ╚══════╝╚═╝  ╚═╝\n",
      "    \u001b[0m\n"
     ]
    },
    {
     "name": "stderr",
     "output_type": "stream",
     "text": [
      "usage: emailfinder.py [-h] -d DOMAIN -o OUTPUT -a API\n",
      "emailfinder.py: error: argument -a/--api: expected one argument\n"
     ]
    }
   ],
   "source": [
    "# Find email address using domain name :\n",
    "\n",
    "domain=input(\"Enter the domain name : \")\n",
    "\n",
    "def email_address():\n",
    "    try:\n",
    "        os.system(f\"python3 /root/Desktop/offensivenotebook/Email_Discovery/hunter/emailfinder.py -d {domain} -a {hunter_api} -o Results/email_addr.txt \")\n",
    "    except Exception as e:\n",
    "        print(e)\n",
    "email_address()"
   ]
  },
  {
   "cell_type": "markdown",
   "metadata": {},
   "source": [
    "# Finding Online presence of email address :"
   ]
  },
  {
   "cell_type": "code",
   "execution_count": 6,
   "metadata": {},
   "outputs": [
    {
     "name": "stdout",
     "output_type": "stream",
     "text": [
      "Enter the domain name : tesla.com\n",
      "Enter the firstname : mark\n",
      "Enter the lastname : weins\n",
      "\u001b[34m\n",
      "██╗  ██╗██╗   ██╗███╗   ██╗████████╗███████╗██████╗ \n",
      "██║  ██║██║   ██║████╗  ██║╚══██╔══╝██╔════╝██╔══██╗\n",
      "███████║██║   ██║██╔██╗ ██║   ██║   █████╗  ██████╔╝\n",
      "██╔══██║██║   ██║██║╚██╗██║   ██║   ██╔══╝  ██╔══██╗\n",
      "██║  ██║╚██████╔╝██║ ╚████║   ██║   ███████╗██║  ██║\n",
      "╚═╝  ╚═╝ ╚═════╝ ╚═╝  ╚═══╝   ╚═╝   ╚══════╝╚═╝  ╚═╝\n",
      "    \u001b[0m\n"
     ]
    },
    {
     "name": "stderr",
     "output_type": "stream",
     "text": [
      "usage: emailpresence.py [-h] -d DOMAIN -f FIRST -l LAST -o OUTPUT -a API\n",
      "emailpresence.py: error: argument -a/--api: expected one argument\n"
     ]
    }
   ],
   "source": [
    "# Finding Online presence of email address :\n",
    "domain = input(\"Enter the domain name : \")\n",
    "firstname = input(\"Enter the firstname : \")\n",
    "lastname = input(\"Enter the lastname : \")\n",
    "\n",
    "def email_online_presence():\n",
    "    try:\n",
    "        os.system(f\"python3 /root/Desktop/offensivenotebook/Email_Discovery/hunter/emailpresence.py -d {domain} -f {firstname} -l {lastname} -a {hunter_api} -o Results/email_presence.txt\")\n",
    "    except Exception as e:\n",
    "        print(e)\n",
    "email_online_presence()"
   ]
  },
  {
   "cell_type": "markdown",
   "metadata": {},
   "source": [
    "# Verify the email address (FAKE, OR TRASH ONE ):"
   ]
  },
  {
   "cell_type": "code",
   "execution_count": 7,
   "metadata": {},
   "outputs": [
    {
     "name": "stdout",
     "output_type": "stream",
     "text": [
      "Enter the email address : mark.weins@tesla.com\n",
      "\u001b[34m\n",
      "██╗  ██╗██╗   ██╗███╗   ██╗████████╗███████╗██████╗ \n",
      "██║  ██║██║   ██║████╗  ██║╚══██╔══╝██╔════╝██╔══██╗\n",
      "███████║██║   ██║██╔██╗ ██║   ██║   █████╗  ██████╔╝\n",
      "██╔══██║██║   ██║██║╚██╗██║   ██║   ██╔══╝  ██╔══██╗\n",
      "██║  ██║╚██████╔╝██║ ╚████║   ██║   ███████╗██║  ██║\n",
      "╚═╝  ╚═╝ ╚═════╝ ╚═╝  ╚═══╝   ╚═╝   ╚══════╝╚═╝  ╚═╝\n",
      "    \u001b[0m\n"
     ]
    },
    {
     "name": "stderr",
     "output_type": "stream",
     "text": [
      "usage: emailverify.py [-h] -e EMAIL -o OUTPUT -a API\n",
      "emailverify.py: error: argument -a/--api: expected one argument\n"
     ]
    }
   ],
   "source": [
    "# Verify the email address (FAKE, OR TRASH ONE ):\n",
    "\n",
    "email_address=input(\"Enter the email address : \")\n",
    "\n",
    "def verify_email_address():\n",
    "    try:\n",
    "        os.system(f\"python3 /root/Desktop/offensivenotebook/Email_Discovery/hunter/emailverify.py -e {email_address}  -a {hunter_api} -o Results/email_address_verify\")\n",
    "    except Exception as e:\n",
    "        print(e)\n",
    "verify_email_address()"
   ]
  },
  {
   "cell_type": "code",
   "execution_count": null,
   "metadata": {},
   "outputs": [],
   "source": []
  }
 ],
 "metadata": {
  "kernelspec": {
   "display_name": "Python 3 (ipykernel)",
   "language": "python",
   "name": "python3"
  },
  "language_info": {
   "codemirror_mode": {
    "name": "ipython",
    "version": 3
   },
   "file_extension": ".py",
   "mimetype": "text/x-python",
   "name": "python",
   "nbconvert_exporter": "python",
   "pygments_lexer": "ipython3",
   "version": "3.9.7"
  }
 },
 "nbformat": 4,
 "nbformat_minor": 4
}
