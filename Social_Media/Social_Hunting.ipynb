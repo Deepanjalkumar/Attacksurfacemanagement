{
 "cells": [
  {
   "cell_type": "markdown",
   "metadata": {},
   "source": [
    "# Introduction : Social Hunting"
   ]
  },
  {
   "cell_type": "raw",
   "metadata": {},
   "source": [
    "# Date of creation : 17 july 2021\n",
    "# Version : 1.0\n",
    "# Description : This notebook helps in social hunting"
   ]
  },
  {
   "cell_type": "markdown",
   "metadata": {},
   "source": [
    "# Importing packages"
   ]
  },
  {
   "cell_type": "code",
   "execution_count": 1,
   "metadata": {},
   "outputs": [],
   "source": [
    "# Importing packages\n",
    "import os"
   ]
  },
  {
   "cell_type": "markdown",
   "metadata": {},
   "source": [
    "# Getting the location of current directory"
   ]
  },
  {
   "cell_type": "code",
   "execution_count": 2,
   "metadata": {},
   "outputs": [
    {
     "name": "stdout",
     "output_type": "stream",
     "text": [
      "Location of current directory : /root/Desktop/offensivenotebook/Social_Media\n"
     ]
    }
   ],
   "source": [
    "# Getting the location of working directory\n",
    "def getting_current_directory():\n",
    "    cwd=os.getcwd()\n",
    "    print(\"Location of current directory :\", cwd)\n",
    "getting_current_directory()"
   ]
  },
  {
   "cell_type": "markdown",
   "metadata": {},
   "source": [
    "# Making the directory name results"
   ]
  },
  {
   "cell_type": "code",
   "execution_count": 4,
   "metadata": {},
   "outputs": [
    {
     "name": "stdout",
     "output_type": "stream",
     "text": [
      "[Errno 17] File exists: 'Results'\n"
     ]
    }
   ],
   "source": [
    "# Making the directory name results\n",
    "\n",
    "def directory_results():\n",
    "    try:\n",
    "        os.mkdir(\"Results\")\n",
    "    except Exception as e:\n",
    "        print(e)\n",
    "directory_results()"
   ]
  },
  {
   "cell_type": "markdown",
   "metadata": {},
   "source": [
    "# Build custom open source tools for this "
   ]
  },
  {
   "cell_type": "raw",
   "metadata": {},
   "source": [
    "# For Now you can use\n",
    "Linkedin\n",
    "Glassdor\n",
    "Twitter\n",
    "Checkuser: Social existence checker"
   ]
  },
  {
   "cell_type": "code",
   "execution_count": null,
   "metadata": {},
   "outputs": [],
   "source": []
  },
  {
   "cell_type": "code",
   "execution_count": null,
   "metadata": {},
   "outputs": [],
   "source": []
  }
 ],
 "metadata": {
  "kernelspec": {
   "display_name": "Python 3 (ipykernel)",
   "language": "python",
   "name": "python3"
  },
  "language_info": {
   "codemirror_mode": {
    "name": "ipython",
    "version": 3
   },
   "file_extension": ".py",
   "mimetype": "text/x-python",
   "name": "python",
   "nbconvert_exporter": "python",
   "pygments_lexer": "ipython3",
   "version": "3.9.7"
  }
 },
 "nbformat": 4,
 "nbformat_minor": 4
}
