{
 "cells": [
  {
   "cell_type": "markdown",
   "metadata": {},
   "source": [
    "# Introduction : Cloud resources"
   ]
  },
  {
   "cell_type": "raw",
   "metadata": {},
   "source": [
    "# Date of creation : 17 july 2021\n",
    "# Version : 1.0\n",
    "# Description : This notebook helps in discovering vulns on cloud premises \n",
    "# Tools used here are:\n",
    "1- Cloudlist\n",
    "2- Cloudbrute\n",
    "3- Cloudstoragefinder\n",
    "4- Cloud_enum"
   ]
  },
  {
   "cell_type": "markdown",
   "metadata": {},
   "source": [
    "# Importing packages"
   ]
  },
  {
   "cell_type": "code",
   "execution_count": 1,
   "metadata": {},
   "outputs": [],
   "source": [
    "# Importing packages\n",
    "import os"
   ]
  },
  {
   "cell_type": "markdown",
   "metadata": {},
   "source": [
    "# Getting the location of current directory"
   ]
  },
  {
   "cell_type": "code",
   "execution_count": 2,
   "metadata": {},
   "outputs": [
    {
     "name": "stdout",
     "output_type": "stream",
     "text": [
      "Location of current directory : /root/Desktop/offensivenotebook/Cloud_assets\n"
     ]
    }
   ],
   "source": [
    "# Getting the location of current directory\n",
    "\n",
    "def current_directory():\n",
    "    cwd=os.getcwd()\n",
    "    print(\"Location of current directory :\", cwd)\n",
    "current_directory()"
   ]
  },
  {
   "cell_type": "markdown",
   "metadata": {},
   "source": [
    "# Making directory name results to save the result"
   ]
  },
  {
   "cell_type": "code",
   "execution_count": 7,
   "metadata": {},
   "outputs": [
    {
     "name": "stdout",
     "output_type": "stream",
     "text": [
      "[Errno 17] File exists: 'Results'\n"
     ]
    }
   ],
   "source": [
    "# Making directory name results\n",
    "\n",
    "def directory_results():\n",
    "    try:\n",
    "        os.mkdir(\"Results\")\n",
    "    except Exception as e:\n",
    "        print(e)\n",
    "directory_results()"
   ]
  },
  {
   "cell_type": "markdown",
   "metadata": {},
   "source": [
    "# Performing assessment on cloud resources"
   ]
  },
  {
   "cell_type": "code",
   "execution_count": 6,
   "metadata": {},
   "outputs": [
    {
     "name": "stderr",
     "output_type": "stream",
     "text": [
      "sh: 1: cloudlist: not found\n"
     ]
    }
   ],
   "source": [
    "# Using cloudlist\n",
    "\n",
    "def cloudlist():\n",
    "    try:\n",
    "        os.system(\"cloudlist -ip  -config cloud.yaml\")\n",
    "    except Exception as e:\n",
    "        print(e)\n",
    "cloudlist()"
   ]
  },
  {
   "cell_type": "code",
   "execution_count": 9,
   "metadata": {},
   "outputs": [
    {
     "name": "stderr",
     "output_type": "stream",
     "text": [
      "sh: 1: cloudbrute: not found\n"
     ]
    }
   ],
   "source": [
    "# Using cloudbrute for brute forcing\n",
    "\n",
    "def cloud_brute_force():\n",
    "    try:\n",
    "        os.system(\"cloudbrute -d \")\n",
    "    except Exception as e:\n",
    "        print(e)\n",
    "cloud_brute_force()"
   ]
  },
  {
   "cell_type": "code",
   "execution_count": 10,
   "metadata": {},
   "outputs": [
    {
     "name": "stderr",
     "output_type": "stream",
     "text": [
      "sh: 1: cloudstoragefinder: not found\n"
     ]
    }
   ],
   "source": [
    "# Using cloudstoragefinder\n",
    "\n",
    "def cloud_storage_finder():\n",
    "    try:\n",
    "        os.system(\"cloudstoragefinder\")\n",
    "    except Exception as e:\n",
    "        print(e)\n",
    "cloud_storage_finder()"
   ]
  },
  {
   "cell_type": "code",
   "execution_count": 11,
   "metadata": {},
   "outputs": [
    {
     "name": "stderr",
     "output_type": "stream",
     "text": [
      "sh: 1: Cloudenum: not found\n"
     ]
    }
   ],
   "source": [
    "# Using cloudenum\n",
    "\n",
    "def cloudenum():\n",
    "    try:\n",
    "        os.system(\"Cloudenum\")\n",
    "    except Exception as e:\n",
    "        print(e)\n",
    "cloudenum()"
   ]
  },
  {
   "cell_type": "code",
   "execution_count": null,
   "metadata": {},
   "outputs": [],
   "source": []
  }
 ],
 "metadata": {
  "kernelspec": {
   "display_name": "Python 3 (ipykernel)",
   "language": "python",
   "name": "python3"
  },
  "language_info": {
   "codemirror_mode": {
    "name": "ipython",
    "version": 3
   },
   "file_extension": ".py",
   "mimetype": "text/x-python",
   "name": "python",
   "nbconvert_exporter": "python",
   "pygments_lexer": "ipython3",
   "version": "3.9.7"
  }
 },
 "nbformat": 4,
 "nbformat_minor": 4
}
