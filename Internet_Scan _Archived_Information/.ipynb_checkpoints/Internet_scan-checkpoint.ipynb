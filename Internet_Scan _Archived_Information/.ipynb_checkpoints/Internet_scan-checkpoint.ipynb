{
 "cells": [
  {
   "cell_type": "markdown",
   "metadata": {},
   "source": [
    "# Introduction : Internet scan and Archive information"
   ]
  },
  {
   "cell_type": "raw",
   "metadata": {},
   "source": [
    "# Date of creation : 17 july 2021\n",
    "# Version : 1.0\n",
    "# Description : This notebook helps in getting archived information\n",
    "# Tools used here are:\n",
    "1. Wayback Machine: Internet Archive\n",
    "2. Shodan: Search engine for Internet-connected devices\n",
    "3. Censys: Another search engine for internet-connected devices\n",
    "4. Zoomeye: Cyberspace Search Engine"
   ]
  },
  {
   "cell_type": "markdown",
   "metadata": {},
   "source": [
    "# Importing packages"
   ]
  },
  {
   "cell_type": "code",
   "execution_count": 1,
   "metadata": {},
   "outputs": [],
   "source": [
    "# importing packages\n",
    "import os"
   ]
  },
  {
   "cell_type": "markdown",
   "metadata": {},
   "source": [
    "# Getting the location of current directory"
   ]
  },
  {
   "cell_type": "code",
   "execution_count": 2,
   "metadata": {},
   "outputs": [
    {
     "name": "stdout",
     "output_type": "stream",
     "text": [
      "Location of current working directory : /root/Desktop/offensivenotebook/Internet_Scan _Archived_Information\n"
     ]
    }
   ],
   "source": [
    "# Getting the location of working directory\n",
    "\n",
    "def getting_location_of_working_directory():\n",
    "    try:\n",
    "        cwd=os.getcwd()\n",
    "        print(f\"Location of current working directory :\", cwd)\n",
    "    except Exception as e:\n",
    "        print(e)\n",
    "getting_location_of_working_directory()"
   ]
  },
  {
   "cell_type": "markdown",
   "metadata": {},
   "source": [
    "# Making directory name results to save the result"
   ]
  },
  {
   "cell_type": "code",
   "execution_count": 4,
   "metadata": {},
   "outputs": [
    {
     "name": "stdout",
     "output_type": "stream",
     "text": [
      "[Errno 17] File exists: 'Results'\n"
     ]
    }
   ],
   "source": [
    "# Making directory results to save the results\n",
    "\n",
    "def making_directory_results():\n",
    "    try:\n",
    "        os.mkdir(\"Results\")\n",
    "    except Exception as e:\n",
    "        print(e)\n",
    "making_directory_results()"
   ]
  },
  {
   "cell_type": "markdown",
   "metadata": {},
   "source": [
    "# This will give you a headstart"
   ]
  },
  {
   "cell_type": "code",
   "execution_count": null,
   "metadata": {},
   "outputs": [],
   "source": [
    "Axtrack\n",
    "waybackurls\n",
    "otx-threat-exchange"
   ]
  }
 ],
 "metadata": {
  "kernelspec": {
   "display_name": "Python 3 (ipykernel)",
   "language": "python",
   "name": "python3"
  },
  "language_info": {
   "codemirror_mode": {
    "name": "ipython",
    "version": 3
   },
   "file_extension": ".py",
   "mimetype": "text/x-python",
   "name": "python",
   "nbconvert_exporter": "python",
   "pygments_lexer": "ipython3",
   "version": "3.9.7"
  }
 },
 "nbformat": 4,
 "nbformat_minor": 4
}
