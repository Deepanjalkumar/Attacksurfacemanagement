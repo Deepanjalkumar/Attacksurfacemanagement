{
 "cells": [
  {
   "cell_type": "markdown",
   "metadata": {},
   "source": [
    "# Introduction : Data leakages including credentials"
   ]
  },
  {
   "cell_type": "raw",
   "metadata": {},
   "source": [
    "# Date of creation : 17 july 2021\n",
    "# Version : 1.0\n",
    "# Description : This notebook helps in discovery of data leakages and leaked credentials "
   ]
  },
  {
   "cell_type": "markdown",
   "metadata": {},
   "source": [
    "# Importing packages"
   ]
  },
  {
   "cell_type": "code",
   "execution_count": 1,
   "metadata": {},
   "outputs": [],
   "source": [
    "# Importing packages\n",
    "import os"
   ]
  },
  {
   "cell_type": "markdown",
   "metadata": {},
   "source": [
    "# Getting the location of working directory"
   ]
  },
  {
   "cell_type": "code",
   "execution_count": 2,
   "metadata": {},
   "outputs": [
    {
     "name": "stdout",
     "output_type": "stream",
     "text": [
      "Location of current directory : /root/Desktop/offensivenotebook/Data Leaks\n"
     ]
    }
   ],
   "source": [
    "# Getting the location of working directory\n",
    "\n",
    "def current_directory():\n",
    "    cwd=os.getcwd()\n",
    "    print(\"Location of current directory :\", cwd)\n",
    "current_directory()"
   ]
  },
  {
   "cell_type": "markdown",
   "metadata": {},
   "source": [
    "# Making directory name results to save the result"
   ]
  },
  {
   "cell_type": "code",
   "execution_count": 2,
   "metadata": {},
   "outputs": [
    {
     "name": "stdout",
     "output_type": "stream",
     "text": [
      "[Errno 17] File exists: 'Results'\n"
     ]
    }
   ],
   "source": [
    "# Making directory name reslts\n",
    "\n",
    "def directory_results():\n",
    "    try:\n",
    "        os.mkdir(\"Results\")\n",
    "    except Exception as e:\n",
    "        print(e)\n",
    "directory_results()"
   ]
  },
  {
   "cell_type": "markdown",
   "metadata": {},
   "source": [
    "# Since it is a sensitive part i leave that up to you"
   ]
  },
  {
   "cell_type": "raw",
   "metadata": {},
   "source": [
    "# Tools which you can use:\n",
    "1- Custom bots\n",
    "2- Custom scraper\n",
    "3- Dark owl\n",
    "4- Have i been pawned\n",
    "5- Dehashed\n",
    "6- Pastebin\n",
    "7- Hacking forums"
   ]
  }
 ],
 "metadata": {
  "kernelspec": {
   "display_name": "Python 3 (ipykernel)",
   "language": "python",
   "name": "python3"
  },
  "language_info": {
   "codemirror_mode": {
    "name": "ipython",
    "version": 3
   },
   "file_extension": ".py",
   "mimetype": "text/x-python",
   "name": "python",
   "nbconvert_exporter": "python",
   "pygments_lexer": "ipython3",
   "version": "3.9.7"
  }
 },
 "nbformat": 4,
 "nbformat_minor": 4
}
